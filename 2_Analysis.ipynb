{
  "cells": [
    {
      "cell_type": "markdown",
      "metadata": {
        "id": "view-in-github",
        "colab_type": "text"
      },
      "source": [
        "<a href=\"https://colab.research.google.com/github/Emmanuel-bit1234/Assignment4/blob/main/2_Analysis.ipynb\" target=\"_parent\"><img src=\"https://colab.research.google.com/assets/colab-badge.svg\" alt=\"Open In Colab\"/></a>"
      ]
    },
    {
      "cell_type": "markdown",
      "metadata": {
        "id": "Bo1EWP8eU_xZ"
      },
      "source": [
        "### **Load the libraries**"
      ]
    },
    {
      "cell_type": "code",
      "execution_count": null,
      "metadata": {
        "id": "0W5RGAm7ZWT9"
      },
      "outputs": [],
      "source": [
        "# !pip install tensorflow"
      ]
    },
    {
      "cell_type": "code",
      "execution_count": null,
      "metadata": {
        "id": "DfC19D6QU16B"
      },
      "outputs": [],
      "source": [
        "import pandas as pd\n",
        "import numpy as np\n",
        "import seaborn as sns\n",
        "import tensorflow as tf\n",
        "import matplotlib.pyplot as plt\n",
        "\n",
        "from sklearn.model_selection import train_test_split\n",
        "from tensorflow.keras.models import Sequential\n",
        "from tensorflow.keras.layers import Conv1D, MaxPooling1D, Flatten, Dense\n",
        "\n",
        "import warnings\n",
        "warnings.filterwarnings('ignore')\n",
        "\n",
        "# Class Imbalance\n",
        "from imblearn.under_sampling import NearMiss\n",
        "from imblearn.over_sampling import SMOTE\n",
        "\n",
        "# Scaling\n",
        "from sklearn.preprocessing import StandardScaler"
      ]
    },
    {
      "cell_type": "code",
      "execution_count": null,
      "metadata": {
        "id": "_omTdNPBVLho"
      },
      "outputs": [],
      "source": [
        "file_name = \"processed_dataset.csv\"\n",
        "\n",
        "data = pd.read_csv(file_name, delimiter=',', on_bad_lines='skip')"
      ]
    },
    {
      "cell_type": "code",
      "execution_count": null,
      "metadata": {
        "colab": {
          "base_uri": "https://localhost:8080/"
        },
        "id": "NYuMqtseW3Lo",
        "outputId": "5a45fe3d-6cfe-4f45-d3ed-d7ca73308281"
      },
      "outputs": [
        {
          "name": "stdout",
          "output_type": "stream",
          "text": [
            "<class 'pandas.core.frame.DataFrame'>\n",
            "RangeIndex: 253680 entries, 0 to 253679\n",
            "Data columns (total 22 columns):\n",
            " #   Column                Non-Null Count   Dtype  \n",
            "---  ------                --------------   -----  \n",
            " 0   Diabetes              253680 non-null  float64\n",
            " 1   HighBP                253680 non-null  float64\n",
            " 2   HighChol              253680 non-null  float64\n",
            " 3   CholCheck             253680 non-null  float64\n",
            " 4   BMI                   253680 non-null  float64\n",
            " 5   Smoker                253680 non-null  float64\n",
            " 6   Stroke                253680 non-null  float64\n",
            " 7   HeartDiseaseorAttack  253680 non-null  float64\n",
            " 8   PhysActivity          253680 non-null  float64\n",
            " 9   Fruits                253680 non-null  float64\n",
            " 10  Veggies               253680 non-null  float64\n",
            " 11  HvyAlcoholConsump     253680 non-null  float64\n",
            " 12  AnyHealthcare         253680 non-null  float64\n",
            " 13  NoDocbcCost           253680 non-null  float64\n",
            " 14  GenHlth               253680 non-null  float64\n",
            " 15  MentHlth              253680 non-null  float64\n",
            " 16  PhysHlth              253680 non-null  float64\n",
            " 17  DiffWalk              253680 non-null  float64\n",
            " 18  Sex                   253680 non-null  float64\n",
            " 19  Age                   253680 non-null  float64\n",
            " 20  Education             253680 non-null  float64\n",
            " 21  Income                253680 non-null  float64\n",
            "dtypes: float64(22)\n",
            "memory usage: 42.6 MB\n"
          ]
        }
      ],
      "source": [
        "data.info()"
      ]
    },
    {
      "cell_type": "code",
      "execution_count": null,
      "metadata": {
        "id": "0MZJuIeNW9mY"
      },
      "outputs": [],
      "source": [
        "X = data.drop([\"Diabetes\"], axis=1)\n",
        "y = data['Diabetes']\n",
        "\n",
        "X_train, X_test, y_train, y_test = train_test_split(X, y, test_size=0.3,stratify=y, random_state=42)"
      ]
    },
    {
      "cell_type": "markdown",
      "metadata": {
        "id": "m-Lswd8dXAiu"
      },
      "source": [
        "### **Class Imbalance**\n"
      ]
    },
    {
      "cell_type": "code",
      "execution_count": null,
      "metadata": {
        "id": "232x4eNJXDoP"
      },
      "outputs": [],
      "source": [
        "smote = SMOTE(random_state=42)\n",
        "X_train_res, y_train_res = smote.fit_resample(X_train, y_train)"
      ]
    },
    {
      "cell_type": "code",
      "execution_count": null,
      "metadata": {
        "colab": {
          "base_uri": "https://localhost:8080/"
        },
        "id": "5JezL1lZ0gua",
        "outputId": "c08802b9-a81b-4c3c-bc29-51bb017e9efa"
      },
      "outputs": [
        {
          "name": "stdout",
          "output_type": "stream",
          "text": [
            "Before Diabetes\n",
            "0.0    149592\n",
            "2.0     24742\n",
            "1.0      3242\n",
            "Name: count, dtype: int64\n",
            "\n",
            "After Diabetes\n",
            "0.0    149592\n",
            "2.0    149592\n",
            "1.0    149592\n",
            "Name: count, dtype: int64\n"
          ]
        }
      ],
      "source": [
        "print('Before', y_train.value_counts())\n",
        "print()\n",
        "print('After', y_train_res.value_counts())"
      ]
    },
    {
      "cell_type": "markdown",
      "metadata": {
        "id": "h3wNZaepY6uW"
      },
      "source": [
        "### **Scaling**"
      ]
    },
    {
      "cell_type": "code",
      "execution_count": null,
      "metadata": {
        "id": "hjm2p8ulY8iu"
      },
      "outputs": [],
      "source": [
        "scaler = StandardScaler()\n",
        "X_train_scaled = scaler.fit_transform(X_train_res)\n",
        "X_test_scaled = scaler.transform(X_test)"
      ]
    },
    {
      "cell_type": "markdown",
      "metadata": {
        "id": "vvNWW0LTZ5XU"
      },
      "source": [
        "### **Multilayer Perceptron (MLP) Model**\n",
        "\n",
        "> The MLP using Keras. The architecture can be adjusted based on the complexity of the dataset and the specific task"
      ]
    },
    {
      "cell_type": "code",
      "execution_count": null,
      "metadata": {
        "colab": {
          "base_uri": "https://localhost:8080/"
        },
        "id": "bsVsBHW6Z40f",
        "outputId": "bc7c88ef-c8de-49b9-fb17-ba4deee578aa"
      },
      "outputs": [
        {
          "name": "stdout",
          "output_type": "stream",
          "text": [
            "Epoch 1/5\n",
            "14025/14025 [==============================] - 49s 3ms/step - loss: -870952.0625 - accuracy: 0.3333\n",
            "Epoch 2/5\n",
            "14025/14025 [==============================] - 48s 3ms/step - loss: -9317841.0000 - accuracy: 0.3333\n",
            "Epoch 3/5\n",
            "14025/14025 [==============================] - 47s 3ms/step - loss: -34296888.0000 - accuracy: 0.3333\n",
            "Epoch 4/5\n",
            "14025/14025 [==============================] - 47s 3ms/step - loss: -84692464.0000 - accuracy: 0.3333\n",
            "Epoch 5/5\n",
            "14025/14025 [==============================] - 47s 3ms/step - loss: -169170816.0000 - accuracy: 0.3333\n"
          ]
        },
        {
          "data": {
            "text/plain": [
              "<keras.src.callbacks.History at 0x7ed195bc7b80>"
            ]
          },
          "execution_count": 11,
          "metadata": {},
          "output_type": "execute_result"
        }
      ],
      "source": [
        "model = Sequential([\n",
        "    Dense(64, activation='relu', input_shape=(X_train_scaled.shape[1],)),\n",
        "    Dense(32, activation='relu'),\n",
        "    Dense(1, activation='softmax')  # Use 'softmax' if it’s a multi-class classification\n",
        "])\n",
        "\n",
        "model.compile(optimizer='adam', loss='binary_crossentropy', metrics=['accuracy'])\n",
        "\n",
        "# Train the model\n",
        "model.fit(X_train_scaled, y_train_res, epochs=5)"
      ]
    },
    {
      "cell_type": "code",
      "execution_count": null,
      "metadata": {
        "colab": {
          "base_uri": "https://localhost:8080/"
        },
        "id": "1Lt6GjnXa4qW",
        "outputId": "dff37f29-ccd0-4a4f-f1e2-0d6817495fe3"
      },
      "outputs": [
        {
          "name": "stdout",
          "output_type": "stream",
          "text": [
            "2379/2379 [==============================] - 6s 2ms/step - loss: 78109752.0000 - accuracy: 0.0183\n",
            "Test Accuracy: 1.83%\n"
          ]
        }
      ],
      "source": [
        "# Evaluate the model on the test set\n",
        "loss, accuracy = model.evaluate(X_test_scaled, y_test)\n",
        "print(f\"Test Accuracy: {accuracy*100:.2f}%\")"
      ]
    },
    {
      "cell_type": "markdown",
      "metadata": {
        "id": "8NnMlIuv6LtC"
      },
      "source": [
        "### **Convolutional Neural Network (CNN)**"
      ]
    },
    {
      "cell_type": "code",
      "execution_count": null,
      "metadata": {
        "id": "sg9t9Hw26Niy"
      },
      "outputs": [],
      "source": [
        "X_train = np.expand_dims(X_train, axis=2)\n",
        "X_test = np.expand_dims(X_test, axis=2)"
      ]
    },
    {
      "cell_type": "code",
      "execution_count": null,
      "metadata": {
        "colab": {
          "base_uri": "https://localhost:8080/"
        },
        "id": "_0WGnT3G6Yoz",
        "outputId": "dc4a0047-4801-4090-a3fd-50af74e99763"
      },
      "outputs": [
        {
          "name": "stdout",
          "output_type": "stream",
          "text": [
            "Epoch 1/5\n",
            "5550/5550 [==============================] - 23s 4ms/step - loss: 0.3961 - accuracy: 0.6966\n",
            "Epoch 2/5\n",
            "5550/5550 [==============================] - 19s 3ms/step - loss: 0.3588 - accuracy: 0.7000\n",
            "Epoch 3/5\n",
            "5550/5550 [==============================] - 20s 4ms/step - loss: 0.3262 - accuracy: 0.7013\n",
            "Epoch 4/5\n",
            "5550/5550 [==============================] - 19s 3ms/step - loss: 0.2308 - accuracy: 0.7013\n",
            "Epoch 5/5\n",
            "5550/5550 [==============================] - 20s 4ms/step - loss: -0.0242 - accuracy: 0.7027\n"
          ]
        }
      ],
      "source": [
        "model = Sequential([\n",
        "    Conv1D(filters=64, kernel_size=3, activation='relu', input_shape=(X_train.shape[1], 1)),\n",
        "    MaxPooling1D(pool_size=2),\n",
        "    Flatten(),\n",
        "    Dense(64, activation='relu'),\n",
        "    Dense(1, activation='sigmoid')  # Use 'softmax' for multi-class classification\n",
        "])\n",
        "\n",
        "model.compile(optimizer='adam',\n",
        "              loss='binary_crossentropy',  # Use 'categorical_crossentropy' for multi-class\n",
        "              metrics=['accuracy'])\n",
        "\n",
        "history = model.fit(X_train, y_train, epochs=5)"
      ]
    },
    {
      "cell_type": "code",
      "execution_count": null,
      "metadata": {
        "colab": {
          "base_uri": "https://localhost:8080/"
        },
        "id": "9dHqwfSh6dkx",
        "outputId": "75b53629-34d4-4dbb-c7cc-aa67922af6e7"
      },
      "outputs": [
        {
          "name": "stdout",
          "output_type": "stream",
          "text": [
            "2379/2379 [==============================] - 5s 2ms/step - loss: -0.3406 - accuracy: 0.7055\n",
            "Test Accuracy: 70.55%\n"
          ]
        }
      ],
      "source": [
        "test_loss, test_acc = model.evaluate(X_test, y_test)\n",
        "print(f\"Test Accuracy: {test_acc*100:.2f}%\")"
      ]
    },
    {
      "cell_type": "code",
      "execution_count": null,
      "metadata": {
        "colab": {
          "background_save": true,
          "base_uri": "https://localhost:8080/"
        },
        "id": "2mDiMW77dAiD",
        "outputId": "73d675e6-7b41-4cbb-a426-06aff6210d3a"
      },
      "outputs": [
        {
          "name": "stdout",
          "output_type": "stream",
          "text": [
            "Index(['Diabetes', 'HighBP', 'HighChol', 'CholCheck', 'BMI', 'Smoker',\n",
            "       'Stroke', 'HeartDiseaseorAttack', 'PhysActivity', 'Fruits', 'Veggies',\n",
            "       'HvyAlcoholConsump', 'AnyHealthcare', 'NoDocbcCost', 'GenHlth',\n",
            "       'MentHlth', 'PhysHlth', 'DiffWalk', 'Sex', 'Age', 'Education',\n",
            "       'Income'],\n",
            "      dtype='object')\n",
            "Epoch 1/10\n",
            "5074/5074 [==============================] - 88s 17ms/step - loss: 0.7300 - accuracy: 0.7323 - val_loss: 0.4817 - val_accuracy: 0.7479\n",
            "Epoch 2/10\n",
            "5074/5074 [==============================] - 84s 17ms/step - loss: 0.4055 - accuracy: 0.7169 - val_loss: 0.3985 - val_accuracy: 0.6477\n",
            "Epoch 3/10\n",
            "5074/5074 [==============================] - 83s 16ms/step - loss: 0.4143 - accuracy: 0.7136 - val_loss: 0.3583 - val_accuracy: 0.7426\n",
            "Epoch 4/10\n",
            "5074/5074 [==============================] - 86s 17ms/step - loss: 0.4545 - accuracy: 0.7253 - val_loss: 0.4067 - val_accuracy: 0.7325\n",
            "Epoch 5/10\n",
            "5074/5074 [==============================] - 84s 17ms/step - loss: 0.4289 - accuracy: 0.7065 - val_loss: 0.0938 - val_accuracy: 0.7518\n",
            "Epoch 6/10\n",
            "5074/5074 [==============================] - 84s 16ms/step - loss: 0.4793 - accuracy: 0.7003 - val_loss: 0.3202 - val_accuracy: 0.7716\n",
            "Epoch 7/10\n",
            "5074/5074 [==============================] - 87s 17ms/step - loss: 0.4174 - accuracy: 0.7059 - val_loss: 0.2956 - val_accuracy: 0.7180\n",
            "Epoch 8/10\n",
            "5074/5074 [==============================] - 86s 17ms/step - loss: 0.4113 - accuracy: 0.7102 - val_loss: 0.4022 - val_accuracy: 0.7557\n",
            "Epoch 9/10\n",
            "5074/5074 [==============================] - 81s 16ms/step - loss: 0.3678 - accuracy: 0.7045 - val_loss: -0.5378 - val_accuracy: 0.6761\n",
            "Epoch 10/10\n",
            "5074/5074 [==============================] - 82s 16ms/step - loss: 0.8292 - accuracy: 0.7005 - val_loss: 0.5049 - val_accuracy: 0.7718\n",
            "1586/1586 [==============================] - 6s 4ms/step - loss: 0.4886 - accuracy: 0.7693\n",
            "Test Accuracy: 0.7692565321922302\n"
          ]
        }
      ],
      "source": [
        "import pandas as pd\n",
        "import numpy as np\n",
        "import tensorflow as tf\n",
        "from tensorflow.keras.models import Sequential\n",
        "from tensorflow.keras.layers import SimpleRNN, Dense\n",
        "from sklearn.model_selection import train_test_split\n",
        "from sklearn.preprocessing import StandardScaler, LabelEncoder\n",
        "# Display the column names\n",
        "print(data.columns)\n",
        "\n",
        "# Replace 'Diabetes' with the column you want to predict\n",
        "target_column = 'Diabetes'\n",
        "\n",
        "# Features and target\n",
        "X = data.drop(columns=[target_column])\n",
        "y = data[target_column]\n",
        "\n",
        "# Normalize the features\n",
        "scaler = StandardScaler()\n",
        "X_scaled = scaler.fit_transform(X)\n",
        "\n",
        "# Encode the target labels if they are categorical\n",
        "if data[target_column].dtype == 'object':\n",
        "    label_encoder = LabelEncoder()\n",
        "    y = label_encoder.fit_transform(y)\n",
        "\n",
        "# Reshape the features for RNN input (samples, time steps, features)\n",
        "# Here we consider each feature as a time step\n",
        "X_reshaped = X_scaled.reshape((X_scaled.shape[0], X_scaled.shape[1], 1))\n",
        "\n",
        "# Split the data into training and testing sets\n",
        "X_train, X_test, y_train, y_test = train_test_split(X_reshaped, y, test_size=0.2, random_state=42)\n",
        "\n",
        "# Define the RNN model\n",
        "model = Sequential()\n",
        "model.add(SimpleRNN(units=64, activation='relu', input_shape=(X_train.shape[1], 1)))\n",
        "model.add(Dense(1, activation='sigmoid'))\n",
        "\n",
        "# Compile the model\n",
        "model.compile(optimizer='adam', loss='binary_crossentropy', metrics=['accuracy'])\n",
        "\n",
        "# Train the model\n",
        "model.fit(X_train, y_train, epochs=10, batch_size=32, validation_split=0.2)\n",
        "\n",
        "# Evaluate the model on the test set\n",
        "loss, accuracy = model.evaluate(X_test, y_test)\n",
        "print(f'Test Accuracy: {accuracy}')"
      ]
    },
    {
      "cell_type": "code",
      "source": [
        "# Import necessary libraries\n",
        "import pandas as pd\n",
        "import numpy as np\n",
        "import tensorflow as tf\n",
        "from tensorflow.keras.models import Sequential\n",
        "from tensorflow.keras.layers import LSTM, Dense\n",
        "from sklearn.model_selection import train_test_split\n",
        "from sklearn.preprocessing import StandardScaler, LabelEncoder\n",
        "\n",
        "# Load the dataset\n",
        "file_name = \"processed_dataset.csv\"\n",
        "data = pd.read_csv(file_name, delimiter=',', on_bad_lines='skip')\n",
        "\n",
        "# Display the column names\n",
        "print(data.columns)\n",
        "\n",
        "# Replace 'Diabetes' with the column you want to predict\n",
        "target_column = 'Diabetes'\n",
        "\n",
        "# Features and target\n",
        "X = data.drop(columns=[target_column])\n",
        "y = data[target_column]\n",
        "\n",
        "# Normalize the features\n",
        "scaler = StandardScaler()\n",
        "X_scaled = scaler.fit_transform(X)\n",
        "\n",
        "# Encode the target labels if they are categorical\n",
        "if data[target_column].dtype == 'object':\n",
        "    label_encoder = LabelEncoder()\n",
        "    y = label_encoder.fit_transform(y)\n",
        "\n",
        "# Reshape the features for LSTM input (samples, time steps, features)\n",
        "# Here we consider each feature as a time step\n",
        "X_reshaped = X_scaled.reshape((X_scaled.shape[0], X_scaled.shape[1], 1))\n",
        "\n",
        "# Split the data into training and testing sets\n",
        "X_train, X_test, y_train, y_test = train_test_split(X_reshaped, y, test_size=0.2, random_state=42)\n",
        "\n",
        "# Define the LSTM model\n",
        "model = Sequential()\n",
        "model.add(LSTM(units=64, activation='relu', input_shape=(X_train.shape[1], 1)))\n",
        "model.add(Dense(1, activation='sigmoid'))\n",
        "\n",
        "# Compile the model\n",
        "model.compile(optimizer='adam', loss='binary_crossentropy', metrics=['accuracy'])\n",
        "\n",
        "# Train the model\n",
        "model.fit(X_train, y_train, epochs=10, batch_size=32, validation_split=0.2)\n",
        "\n",
        "# Evaluate the model on the test set\n",
        "loss, accuracy = model.evaluate(X_test, y_test)\n",
        "print(f'Test Accuracy: {accuracy}')\n"
      ],
      "metadata": {
        "colab": {
          "base_uri": "https://localhost:8080/"
        },
        "id": "1D8KrCaVx_2Z",
        "outputId": "3dc655d6-930c-42a2-d4b9-68a4d4aca9eb"
      },
      "execution_count": null,
      "outputs": [
        {
          "output_type": "stream",
          "name": "stdout",
          "text": [
            "Index(['Diabetes', 'HighBP', 'HighChol', 'CholCheck', 'BMI', 'Smoker',\n",
            "       'Stroke', 'HeartDiseaseorAttack', 'PhysActivity', 'Fruits', 'Veggies',\n",
            "       'HvyAlcoholConsump', 'AnyHealthcare', 'NoDocbcCost', 'GenHlth',\n",
            "       'MentHlth', 'PhysHlth', 'DiffWalk', 'Sex', 'Age', 'Education',\n",
            "       'Income'],\n",
            "      dtype='object')\n",
            "Epoch 1/10\n",
            "5074/5074 [==============================] - 67s 13ms/step - loss: 0.5835 - accuracy: 0.7184 - val_loss: 0.4208 - val_accuracy: 0.6861\n",
            "Epoch 2/10\n",
            "4068/5074 [=======================>......] - ETA: 13s - loss: 0.4097 - accuracy: 0.7180"
          ]
        }
      ]
    }
  ],
  "metadata": {
    "accelerator": "GPU",
    "colab": {
      "gpuType": "T4",
      "provenance": [],
      "include_colab_link": true
    },
    "kernelspec": {
      "display_name": "Python 3",
      "name": "python3"
    },
    "language_info": {
      "name": "python"
    }
  },
  "nbformat": 4,
  "nbformat_minor": 0
}